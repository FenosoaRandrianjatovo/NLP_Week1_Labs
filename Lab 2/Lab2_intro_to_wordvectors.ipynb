{
 "cells": [
  {
   "cell_type": "markdown",
   "metadata": {},
   "source": [
    "\n",
    "<h1 style=\"font-family:verdana;font-size:300%;text-align:center;background-color:#f2f2f2;color:#0d0d0d\">AMMI NLP - Review sessions</h1>\n",
    "\n",
    "<h1 style=\"font-family:verdana;font-size:180%;text-align:Center;color:#993333\"> Lab 2: Introduction to wordvectors </h1>"
   ]
  },
  {
   "cell_type": "markdown",
   "metadata": {},
   "source": [
    "**Big thanks to Amr Khalifa who improved this lab and made it to a Jupyter Notebook!**"
   ]
  },
  {
   "cell_type": "markdown",
   "metadata": {},
   "source": [
    "# Fenosoa Ramdrianjatovo"
   ]
  },
  {
   "cell_type": "code",
   "execution_count": 4,
   "metadata": {},
   "outputs": [],
   "source": [
    "import io, sys\n",
    "import numpy as np\n",
    "from heapq import heappop, heappush, heapify"
   ]
  },
  {
   "cell_type": "code",
   "execution_count": 5,
   "metadata": {},
   "outputs": [],
   "source": [
    "def load_vectors(filename):\n",
    "    fin = io.open(filename, 'r', encoding='utf-8', newline='\\n')\n",
    "    n, d = map(int, fin.readline().split())\n",
    "    \n",
    "    data = {}\n",
    "    for line in fin:\n",
    "        tokens = line.rstrip().split(' ')\n",
    "        data[tokens[0]] = np.asarray([float(x) for x in tokens[1:]])\n",
    "    return data"
   ]
  },
  {
   "cell_type": "code",
   "execution_count": 6,
   "metadata": {},
   "outputs": [
    {
     "name": "stdout",
     "output_type": "stream",
     "text": [
      "\n",
      " ** Word vectors ** \n",
      "\n",
      "<class 'numpy.ndarray'> 300\n"
     ]
    }
   ],
   "source": [
    "# Loading word vectors\n",
    "print('')\n",
    "print(' ** Word vectors ** ')\n",
    "print('')\n",
    "\n",
    "'''\n",
    "word_vectors is a dictionary that maps words to their numerical word vector\n",
    "[word (string)] = [np-array] \n",
    "'''\n",
    "word_vectors = load_vectors('data/wiki.en.vec')\n",
    "\n",
    "tree_vector = word_vectors['tree']\n",
    "print(type(tree_vector), len(tree_vector))"
   ]
  },
  {
   "cell_type": "code",
   "execution_count": 7,
   "metadata": {},
   "outputs": [],
   "source": [
    "## This function computes the cosine similarity between vectors u and v\n",
    "\n",
    "def cosine(u, v):\n",
    "    '''\n",
    "    Parameters:\n",
    "    u : 1-D numpy array\n",
    "    v : 1-D numpy array \n",
    "    \n",
    "    Returns:\n",
    "    cos (float) : value of the cosine similairy between vectors u, v \n",
    "    '''\n",
    "    ## FILL CODE\n",
    "    cos =(u@v) / (np.linalg.norm(u) * np.linalg.norm(v))\n",
    "    return cos "
   ]
  },
  {
   "cell_type": "code",
   "execution_count": 8,
   "metadata": {},
   "outputs": [
    {
     "name": "stdout",
     "output_type": "stream",
     "text": [
      "similarity(apple, apples) = 0.637\n",
      "similarity(apple, banana) = 0.431\n",
      "similarity(apple, tiger) = 0.212\n"
     ]
    }
   ],
   "source": [
    "# compute similarity between words\n",
    "\n",
    "print('similarity(apple, apples) = %.3f' %\n",
    "      cosine(word_vectors['apple'], word_vectors['apples']))\n",
    "print('similarity(apple, banana) = %.3f' %\n",
    "      cosine(word_vectors['apple'], word_vectors['banana']))\n",
    "print('similarity(apple, tiger) = %.3f' %\n",
    "      cosine(word_vectors['apple'], word_vectors['tiger']))"
   ]
  },
  {
   "cell_type": "code",
   "execution_count": 9,
   "metadata": {},
   "outputs": [
    {
     "data": {
      "text/plain": [
       "'dog'"
      ]
     },
     "execution_count": 9,
     "metadata": {},
     "output_type": "execute_result"
    }
   ],
   "source": [
    "## Functions for nearest neighbor\n",
    "## This function returns the word corresponding to \n",
    "## nearest neighbor vector of x\n",
    "## The list exclude_words can be used to exclude some\n",
    "## words from the nearest neighbors search\n",
    "\n",
    "def nearest_neighbor(x, word_vectors, exclude_words=[]):\n",
    "    '''\n",
    "    Parameters:\n",
    "    x (string): word to find its nearest neighbour \n",
    "    word_vectors (Python dict): {word (string): np-array of word vector}\n",
    "    exclude_words (list of strings): words to be excluded from the search\n",
    "    \n",
    "    Returns:\n",
    "    best_word (string) : the word whose word vector is the nearest neighbour \n",
    "    to the word vector of x\n",
    "    '''\n",
    "    best_score = -1.0\n",
    "    best_word = None\n",
    "    ## FILL CODE\n",
    "    items=word_vectors.items()\n",
    "    for word ,v in items:\n",
    "#         print(cosine(x,v))    \n",
    "        score_similarity = cosine(x,v)\n",
    "#         if score_similarity==1.0:\n",
    "#             print(v)\n",
    "#             return\n",
    "        if score_similarity>best_score:\n",
    "            if not word in exclude_words:\n",
    "                best_word=word\n",
    "                best_score= score_similarity\n",
    "            \n",
    "    return best_word\n",
    "nearest_neighbor(word_vectors['cat'], word_vectors, exclude_words = ['cat', 'cats'])"
   ]
  },
  {
   "cell_type": "code",
   "execution_count": null,
   "metadata": {},
   "outputs": [],
   "source": []
  },
  {
   "cell_type": "code",
   "execution_count": 10,
   "metadata": {},
   "outputs": [
    {
     "name": "stdout",
     "output_type": "stream",
     "text": [
      "\n",
      "The nearest neighbor of cat is: dog\n"
     ]
    }
   ],
   "source": [
    "print('')\n",
    "print('The nearest neighbor of cat is: ' +\n",
    "      nearest_neighbor(word_vectors['cat'], word_vectors, exclude_words = ['cat', 'cats']))"
   ]
  },
  {
   "cell_type": "markdown",
   "metadata": {},
   "source": [
    "#### Hint (using python priorty queues with the heapq datastructure): \n",
    "if you don't want to store all the words and scores you can use the priortiy queue and only store the best K element so far. "
   ]
  },
  {
   "cell_type": "code",
   "execution_count": 11,
   "metadata": {},
   "outputs": [
    {
     "name": "stdout",
     "output_type": "stream",
     "text": [
      "[(1.0, 'cat'), (0.7321739024507733, 'cats'), (0.6380517245741392, 'dog')]\n"
     ]
    }
   ],
   "source": [
    "\n",
    "## This function return the words corresponding to the\n",
    "## K nearest neighbors of vector x.\n",
    "## You can use the functions heappush and heappop.\n",
    "\n",
    "def knn(x, vectors, k):\n",
    "    '''\n",
    "    Parameters:\n",
    "    x (string): word to find its nearest neighbour \n",
    "    word_vectors (Python dict): {word (string): np-array of word vector}\n",
    "    k (int): number of nearest neighbours to be found\n",
    "    \n",
    "    Returns: \n",
    "    k_nearest_neighbors (list of tuples): [(score, word), (score, word), ....]\n",
    "    '''\n",
    "\n",
    "    k_nearest_neighbors = []\n",
    "    # using heapify to convert list into heap\n",
    "    heapify(k_nearest_neighbors)\n",
    "    heap=[]\n",
    "    for word, v in vectors.items():\n",
    "        score_similarity = cosine(x, v)\n",
    "        # using heappush() to push elements into heap, \n",
    "        heappush(k_nearest_neighbors, (score_similarity, word))\n",
    "        \n",
    "        \n",
    "        if len(k_nearest_neighbors) > k:\n",
    "            # using heappop() to pop smallest element\n",
    "            heappop(k_nearest_neighbors)\n",
    "            \n",
    "    for i in range(len(k_nearest_neighbors)):\n",
    "        heap.append(heappop(k_nearest_neighbors))\n",
    "        \n",
    "\n",
    "    k_nearest_neighbors=heap[::-1]\n",
    "\n",
    " \n",
    "    return k_nearest_neighbors\n",
    "\n",
    "print(knn(word_vectors['cat'], word_vectors, 3))"
   ]
  },
  {
   "cell_type": "code",
   "execution_count": 12,
   "metadata": {},
   "outputs": [
    {
     "name": "stdout",
     "output_type": "stream",
     "text": [
      "\n",
      "cat\n",
      "--------------\n",
      "cat\t1.000\n",
      "cats\t0.732\n",
      "dog\t0.638\n",
      "pet\t0.573\n",
      "rabbit\t0.549\n"
     ]
    }
   ],
   "source": [
    "knn_cat = knn(word_vectors['cat'], word_vectors, 5)\n",
    "print('')\n",
    "print('cat')\n",
    "print('--------------')\n",
    "for score, word in knn(word_vectors['cat'], word_vectors, 5):\n",
    "    print (word + '\\t%.3f' % score)\n"
   ]
  },
  {
   "cell_type": "markdown",
   "metadata": {},
   "source": [
    "#### Hint: \n",
    "To find the analogies, we find the nearest neighbour associated with the wordvector d\n",
    "$$ d = \\frac{c}{\\Vert {c} \\Vert} + \\frac{b}{\\Vert {b} \\Vert} - \\frac{a}{\\Vert {a} \\Vert}$$\n"
   ]
  },
  {
   "cell_type": "code",
   "execution_count": 13,
   "metadata": {},
   "outputs": [],
   "source": [
    "## This function return the words d, such that a:b and c:d\n",
    "## verifies the same relation\n",
    "\n",
    "def analogy(a, b, c, word_vectors):\n",
    "    '''\n",
    "    Parameters:\n",
    "    a (string): word a\n",
    "    b (string): word b\n",
    "    c (string): word c\n",
    "    word_vectors (Python dict): {word (string): np-array of word vector}\n",
    "    \n",
    "    Returnrs: \n",
    "    the word d (string) associated with c such that c:d is similar to a:b \n",
    "    \n",
    "    '''\n",
    "    \n",
    "    ## FILL CODE\n",
    "    vec_a = word_vectors[a]\n",
    "    vec_b = word_vectors[b]\n",
    "    vec_c = word_vectors[c]\n",
    "    \n",
    "    vec_a /=np.linalg.norm(vec_a)\n",
    "    vec_b /=np.linalg.norm(vec_b)\n",
    "    vec_c /= np.linalg.norm(vec_c)\n",
    "    \n",
    "    vec_d = vec_c + vec_b - vec_a\n",
    "    \n",
    "    return nearest_neighbor(vec_d, word_vectors, [a, b, c])\n",
    "\n"
   ]
  },
  {
   "cell_type": "code",
   "execution_count": 14,
   "metadata": {},
   "outputs": [
    {
     "name": "stdout",
     "output_type": "stream",
     "text": [
      "\n",
      "france - paris + rome = italy\n"
     ]
    }
   ],
   "source": [
    "# Word analogies\n",
    "\n",
    "print('')\n",
    "print('france - paris + rome = ' + analogy('paris', 'france', 'rome', word_vectors))"
   ]
  },
  {
   "cell_type": "markdown",
   "metadata": {},
   "source": [
    "## A word about biases in word vectors"
   ]
  },
  {
   "cell_type": "code",
   "execution_count": 15,
   "metadata": {},
   "outputs": [
    {
     "name": "stdout",
     "output_type": "stream",
     "text": [
      "\n",
      "similarity(genius, man) = 0.445\n",
      "similarity(genius, woman) = 0.325\n"
     ]
    }
   ],
   "source": [
    "## A word about biases in word vectors:\n",
    "\n",
    "print('')\n",
    "print('similarity(genius, man) = %.3f' %\n",
    "      cosine(word_vectors['man'], word_vectors['genius']))\n",
    "print('similarity(genius, woman) = %.3f' %\n",
    "      cosine(word_vectors['woman'], word_vectors['genius']))"
   ]
  },
  {
   "cell_type": "code",
   "execution_count": 16,
   "metadata": {},
   "outputs": [],
   "source": [
    "## Compute the association strength between:\n",
    "##   - a word w\n",
    "##   - two sets of attributes A and B\n",
    "\n",
    "def association_strength(w, A, B, vectors):\n",
    "    '''\n",
    "    Parameters:\n",
    "    w (string): word w\n",
    "    A (list of strings): The words belonging to set A\n",
    "    B (list of strings): The words belonging to set B\n",
    "    vectors (Python dict): {word (string): np-array of word vector}\n",
    "    \n",
    "    Returnrs: \n",
    "    strength (float): the value of the association strength \n",
    "    '''\n",
    "    \n",
    "    strength = 0.0\n",
    "    part_a = len(A)\n",
    "    part_b = len(B)\n",
    "    \n",
    "    ## FILL CODE\n",
    "    \n",
    "\n",
    "    for a in A:\n",
    "        strength += cosine(vectors[w], vectors[a]) / part_a\n",
    "    for b in B:\n",
    "        strength -= cosine(vectors[w], vectors[b]) / part_b\n",
    "    return strength\n",
    "\n"
   ]
  },
  {
   "cell_type": "code",
   "execution_count": 17,
   "metadata": {},
   "outputs": [],
   "source": [
    "## Perform the word embedding association test between:\n",
    "##   - two sets of words X and Y\n",
    "##   - two sets of attributes A and B\n",
    "\n",
    "def weat(X, Y, A, B, vectors):\n",
    "    '''\n",
    "    Parameters:\n",
    "    X (list of strings): The words belonging to set X\n",
    "    Y (list of strings): The words belonging to set Y\n",
    "    A (list of strings): The words belonging to set A\n",
    "    B (list of strings): The words belonging to set B\n",
    "    vectors (Python dict): {word (string): np-array of word vector}\n",
    "    \n",
    "    Returns: \n",
    "    score (float): the value of the group association strength  \n",
    "    '''\n",
    "    \n",
    "    score = 0.0\n",
    "    \n",
    "    ## FILL CODE\n",
    "    for x in X:\n",
    "        score += association_strength(x, A, B, vectors)\n",
    "    for y in Y:\n",
    "        score -= association_strength(y, A, B, vectors)\n",
    "        \n",
    "        \n",
    "    return score\n",
    "\n"
   ]
  },
  {
   "cell_type": "code",
   "execution_count": 18,
   "metadata": {},
   "outputs": [
    {
     "name": "stdout",
     "output_type": "stream",
     "text": [
      "\n",
      "Word embedding association test: 0.847\n"
     ]
    }
   ],
   "source": [
    "## Replicate one of the experiments from:\n",
    "##\n",
    "## Semantics derived automatically from language corpora contain human-like biases\n",
    "## Caliskan, Bryson, Narayanan (2017)\n",
    "\n",
    "career = ['executive', 'management', 'professional', 'corporation', \n",
    "          'salary', 'office', 'business', 'career']\n",
    "family = ['home', 'parents', 'children', 'family',\n",
    "          'cousins', 'marriage', 'wedding', 'relatives']\n",
    "male = ['john', 'paul', 'mike', 'kevin', 'steve', 'greg', 'jeff', 'bill']\n",
    "female = ['amy', 'joan', 'lisa', 'sarah', 'diana', 'kate', 'ann', 'donna']\n",
    "\n",
    "print('')\n",
    "print('Word embedding association test: %.3f' %\n",
    "      weat(career, family, male, female, word_vectors))"
   ]
  },
  {
   "cell_type": "markdown",
   "metadata": {},
   "source": [
    "## Word translation using word vectors\n",
    "\n",
    "In the following, we will use word vectors in English and French to translate words from English to French. The idea is to learn a linear function that maps English word vectors to their correponding French word vectors. To learn this linear mapping, we will use a small bilingual lexicon, that contains pairs of words in English and French that are translations of each other.\n",
    "\n",
    "The following function will load the small English-French bilingual lexicon:"
   ]
  },
  {
   "cell_type": "code",
   "execution_count": 19,
   "metadata": {},
   "outputs": [],
   "source": [
    "def load_lexicon(filename):\n",
    "    '''\n",
    "    Parameters:\n",
    "    filename(string): the path of the lexicon\n",
    "    \n",
    "    Returns:\n",
    "    data(list of pairs of string): the bilingual lexicon\n",
    "    '''\n",
    "    fin = io.open(filename, 'r', encoding='utf-8', newline='\\n')\n",
    "    data = []\n",
    "    for line in fin:\n",
    "        a, b = line.rstrip().split(' ')\n",
    "        data.append((a, b))\n",
    "    return data"
   ]
  },
  {
   "cell_type": "code",
   "execution_count": 20,
   "metadata": {},
   "outputs": [
    {
     "name": "stdout",
     "output_type": "stream",
     "text": [
      "[('the', 'le'), ('the', 'les'), ('the', 'la'), ('and', 'et'), ('was', 'fut')]\n",
      "7629\n"
     ]
    }
   ],
   "source": [
    "word_vectors_en = load_vectors('data/wiki.en.vec')\n",
    "word_vectors_fr = load_vectors('data/wiki.fr.vec')\n",
    "lexicon = load_lexicon(\"data/lexicon-en-fr.txt\")\n",
    "print(lexicon[:5])\n",
    "print(len(lexicon))"
   ]
  },
  {
   "cell_type": "code",
   "execution_count": 21,
   "metadata": {},
   "outputs": [],
   "source": [
    "# We split the lexicon into a train and validation set\n",
    "train = lexicon[:5000]\n",
    "valid = lexicon[5000:5100]"
   ]
  },
  {
   "cell_type": "markdown",
   "metadata": {},
   "source": [
    "The following function will learn the mapping from English to French. The idea is to build two matrices $X_{\\text{en}}$ and $X_{\\text{fr}}$, and to find a mapping $M$ that minimizes $||X_{\\text{en}} W - X_{\\text{fr}} ||_2$. In numpy, this mapping can be obtained by using the `numpy.linalg.lstsq` function."
   ]
  },
  {
   "cell_type": "code",
   "execution_count": 22,
   "metadata": {},
   "outputs": [],
   "source": [
    "def align(word_vectors_en, word_vectors_fr, lexicon):\n",
    "    '''\n",
    "    Parameters:\n",
    "    word_vectors_en(dict: string -> np.array): English word vectors\n",
    "    word_vectors_en(dict: string -> np.array): French word vectors\n",
    "    lexicon(list of pairs of string): bilingual training lexicon\n",
    "    \n",
    "    Returns\n",
    "    mapping(np.array): the mapping from English to French vectors\n",
    "    '''\n",
    "    x_en, x_fr = [], []\n",
    "    \n",
    "    ## FILL CODE\n",
    "    for w in lexicon:\n",
    "        x_en.append( word_vectors_en[w[0]])\n",
    "        x_fr.append( word_vectors_fr[w[1]])\n",
    "        \n",
    "    x_en = np.array(x_en)\n",
    "    x_fr = np.array(x_fr)\n",
    "\n",
    "    Mapping = np.linalg.lstsq(x_en, x_fr)[0]\n",
    "    \n",
    "    return Mapping"
   ]
  },
  {
   "cell_type": "code",
   "execution_count": 23,
   "metadata": {},
   "outputs": [
    {
     "data": {
      "text/plain": [
       "dict"
      ]
     },
     "execution_count": 23,
     "metadata": {},
     "output_type": "execute_result"
    }
   ],
   "source": [
    "type(word_vectors_en)"
   ]
  },
  {
   "cell_type": "code",
   "execution_count": 24,
   "metadata": {},
   "outputs": [
    {
     "name": "stderr",
     "output_type": "stream",
     "text": [
      "/var/folders/yp/5y8vck6d5ds0bbz5jd0z7ms00000gn/T/ipykernel_4677/1467720300.py:21: FutureWarning: `rcond` parameter will change to the default of machine precision times ``max(M, N)`` where M and N are the input matrix dimensions.\n",
      "To use the future default and silence this warning we advise to pass `rcond=None`, to keep using the old, explicitly pass `rcond=-1`.\n",
      "  Mapping = np.linalg.lstsq(x_en, x_fr)[0]\n"
     ]
    },
    {
     "name": "stdout",
     "output_type": "stream",
     "text": [
      "[[-0.06183285 -0.01071552  0.00175985 ... -0.01107046  0.01629405\n",
      "  -0.01644996]\n",
      " [-0.01655313 -0.02930488  0.09810107 ... -0.01744702 -0.02848298\n",
      "   0.02070179]\n",
      " [-0.01970861 -0.0147154   0.01231819 ...  0.03036093 -0.00209909\n",
      "  -0.00944313]\n",
      " ...\n",
      " [ 0.0669847   0.02351181  0.02041902 ...  0.00886501  0.08635366\n",
      "   0.00595836]\n",
      " [ 0.01936122  0.00552446  0.01234669 ... -0.00623332 -0.05116348\n",
      "   0.05634361]\n",
      " [ 0.00530333 -0.03424679 -0.03369923 ... -0.01344391 -0.00051053\n",
      "  -0.00491391]]\n"
     ]
    }
   ],
   "source": [
    "mapping = align(word_vectors_en, word_vectors_fr, lexicon)\n",
    "print(mapping)"
   ]
  },
  {
   "cell_type": "markdown",
   "metadata": {},
   "source": [
    "Given a mapping, a set of word English word vector and French word vectors, the next function will translate the English word to French. To do so, we apply the mapping on the English word, and retrieve the nearest neighbor of the obtained vector in the set of French word vectors. The translation is then the corresponding French word."
   ]
  },
  {
   "cell_type": "code",
   "execution_count": 25,
   "metadata": {},
   "outputs": [],
   "source": [
    "def translate(word, word_vectors_en, word_vectors_fr, mapping):\n",
    "    '''\n",
    "    Parameters:\n",
    "    word(string): an English word\n",
    "    word_vectors_en(dict: string -> np.array): English word vectors\n",
    "    word_vectors_en(dict: string -> np.array): French word vectors\n",
    "    mapping(np.array): the mapping from English to French vectors\n",
    "    \n",
    "    Returns\n",
    "    A string containing the translation of the English word\n",
    "    '''\n",
    "    \n",
    "    ## FILL CODE\n",
    "    en_vec=word_vectors_en[word]\n",
    "    fr_vec=en_vec@mapping\n",
    "    Near = nearest_neighbor(fr_vec, word_vectors_fr)\n",
    "    \n",
    "\n",
    "    return Near\n",
    "\n"
   ]
  },
  {
   "cell_type": "code",
   "execution_count": 26,
   "metadata": {},
   "outputs": [
    {
     "name": "stdout",
     "output_type": "stream",
     "text": [
      "monde\n",
      "machine\n",
      "apprentissage\n"
     ]
    }
   ],
   "source": [
    "print(translate(\"world\", word_vectors_en, word_vectors_fr, mapping))\n",
    "print(translate(\"machine\", word_vectors_en, word_vectors_fr, mapping))\n",
    "print(translate(\"learning\", word_vectors_en, word_vectors_fr, mapping))"
   ]
  },
  {
   "cell_type": "markdown",
   "metadata": {},
   "source": [
    "Finally, let's implement a function to evaluate this method on the validation lexicon:"
   ]
  },
  {
   "cell_type": "code",
   "execution_count": 27,
   "metadata": {},
   "outputs": [],
   "source": [
    "def evaluate(valid, word_vectors_en, word_vectors_fr, mapping):\n",
    "    '''\n",
    "    Parameters:\n",
    "    valid(a list of pairs of string): the validation lexicon\n",
    "    word_vectors_en(dict: string -> np.array): English word vectors\n",
    "    word_vectors_en(dict: string -> np.array): French word vectors\n",
    "    mapping(np.array): the mapping from English to French vectors\n",
    "    \n",
    "    Returns\n",
    "    Accuracy(float): the accuracy on the validation lexicon\n",
    "    '''\n",
    "    ## FILL CODE\n",
    "    acc, n = 0.0, len(valid)\n",
    "    for vec_en, vec_fr in valid:\n",
    "        vec_pred_fr = translate(vec_en, word_vectors_en, word_vectors_fr, mapping)\n",
    "        if vec_pred_fr==vec_fr:\n",
    "            acc+=1.0\n",
    "    return acc/n"
   ]
  },
  {
   "cell_type": "code",
   "execution_count": 28,
   "metadata": {},
   "outputs": [
    {
     "data": {
      "text/plain": [
       "0.64"
      ]
     },
     "execution_count": 28,
     "metadata": {},
     "output_type": "execute_result"
    }
   ],
   "source": [
    "evaluate(valid, word_vectors_en, word_vectors_fr, mapping)"
   ]
  }
 ],
 "metadata": {
  "kernelspec": {
   "display_name": "Python 3 (ipykernel)",
   "language": "python",
   "name": "python3"
  },
  "language_info": {
   "codemirror_mode": {
    "name": "ipython",
    "version": 3
   },
   "file_extension": ".py",
   "mimetype": "text/x-python",
   "name": "python",
   "nbconvert_exporter": "python",
   "pygments_lexer": "ipython3",
   "version": "3.9.7"
  }
 },
 "nbformat": 4,
 "nbformat_minor": 2
}
