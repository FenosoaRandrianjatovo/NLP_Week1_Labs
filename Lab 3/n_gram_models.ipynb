{
 "cells": [
  {
   "cell_type": "markdown",
   "metadata": {},
   "source": [
    "\n",
    "<h1 style=\"font-family:verdana;font-size:300%;text-align:center;background-color:#f2f2f2;color:#0d0d0d\">AMMI NLP - Review sessions</h1>\n",
    "\n",
    "<h1 style=\"font-family:verdana;font-size:180%;text-align:Center;color:#993333\"> Lab 3: n-gram models </h1>"
   ]
  },
  {
   "cell_type": "markdown",
   "metadata": {},
   "source": [
    "**Big thanks to Amr Khalifa who improved this lab and made it to a Jupyter Notebook!**"
   ]
  },
  {
   "cell_type": "markdown",
   "metadata": {},
   "source": [
    "## Fenosoa Randrinjatovo"
   ]
  },
  {
   "cell_type": "code",
   "execution_count": 463,
   "metadata": {},
   "outputs": [],
   "source": [
    "import io, sys, math, re\n",
    "from collections import defaultdict\n",
    "import numpy as np"
   ]
  },
  {
   "cell_type": "code",
   "execution_count": 464,
   "metadata": {},
   "outputs": [],
   "source": [
    "# data_loader\n",
    "def load_data(filename):\n",
    "    '''\n",
    "    parameters:\n",
    "    filename (string): datafile\n",
    "    \n",
    "    Returns:\n",
    "    data (list of lists): each list is a sentence of the text \n",
    "    vocab (dictionary): {word: no of times it appears in the text}\n",
    "    '''\n",
    "    fin = io.open(filename, 'r', encoding='utf-8')\n",
    "    data = []\n",
    "    vocab = defaultdict(lambda:0)\n",
    "    for line in fin:\n",
    "        sentence = line.split()\n",
    "        data.append(sentence)\n",
    "        for word in sentence:\n",
    "            vocab[word] += 1\n",
    "    return data, vocab"
   ]
  },
  {
   "cell_type": "code",
   "execution_count": 465,
   "metadata": {},
   "outputs": [
    {
     "name": "stdout",
     "output_type": "stream",
     "text": [
      "load training set..\n",
      "\n",
      "\n",
      "['<s>', 'my', 'fathers', \"don't\", 'speak', 'dutch.', '</s>']\n",
      "['<s>', 'the', 'aggressive', 'salesman', 'urged', 'me', 'to', 'sign', 'the', 'contract', 'right', 'away.', '</s>']\n",
      "\n",
      "\n",
      "how : 107\n",
      "load validation set\n"
     ]
    }
   ],
   "source": [
    "\n",
    "print(\"load training set..\")\n",
    "print(\"\\n\")\n",
    "train_data, vocab = load_data(\"data/train1.txt\")\n",
    "print(train_data[0])\n",
    "print(train_data[34])\n",
    "print(\"\\n\")\n",
    "print(\"how :\",vocab['how'])\n",
    "print(\"load validation set\")\n",
    "valid_data, _ = load_data(\"data/valid1.txt\")\n"
   ]
  },
  {
   "cell_type": "code",
   "execution_count": 466,
   "metadata": {},
   "outputs": [
    {
     "name": "stdout",
     "output_type": "stream",
     "text": [
      "fathers : 203\n"
     ]
    }
   ],
   "source": [
    "print(\"fathers :\",vocab['my'])"
   ]
  },
  {
   "cell_type": "code",
   "execution_count": 467,
   "metadata": {},
   "outputs": [],
   "source": [
    "def remove_rare_words(data, vocab, mincount = 1):\n",
    "    '''\n",
    "    Parameters:\n",
    "    data (list of lists): each list is a sentence of the text \n",
    "    vocab (dictionary): {word: no of times it appears in the text}\n",
    "    mincount(int): the minimum count \n",
    "    \n",
    "    Returns: \n",
    "    data_with_unk(list of lists): data after replacing rare words with <unk> token\n",
    "    '''\n",
    "    # replace words in data that are not in the vocab \n",
    "    # or have a count that is below mincount\n",
    "    ## FILL CODE\n",
    "    data_with_unk = []\n",
    "    for sentences in data:   \n",
    "        for index , word in enumerate(sentences):            \n",
    "            if vocab[word] <= mincount :\n",
    "                sentences[index]=\"<unk>\"\n",
    "        data_with_unk.append(sentences)\n",
    "        \n",
    "\n",
    "    return data_with_unk"
   ]
  },
  {
   "cell_type": "code",
   "execution_count": 468,
   "metadata": {},
   "outputs": [
    {
     "name": "stdout",
     "output_type": "stream",
     "text": [
      "Before removing  rare words\n",
      "5561\n",
      "['<s>', 'my', 'fathers', \"don't\", 'speak', 'dutch.', '</s>']\n",
      "['<s>', 'the', 'aggressive', 'salesman', 'urged', 'me', 'to', 'sign', 'the', 'contract', 'right', 'away.', '</s>']\n",
      "['<s>', '\"who', 'shot', 'him,', 'then?\"', '\"the', 'burglar,', 'sir.', '\"', '</s>']\n",
      " \n",
      "=============================================================================================================================\n",
      "After removing rare words\n",
      "['<s>', 'my', '<unk>', \"don't\", 'speak', '<unk>', '</s>']\n",
      "['<s>', 'the', 'aggressive', '<unk>', 'urged', 'me', 'to', 'sign', 'the', '<unk>', 'right', 'away.', '</s>']\n",
      "['<s>', '<unk>', 'shot', 'him,', 'then?\"', '\"the', '<unk>', '<unk>', '<unk>', '</s>']\n",
      " \n",
      "5561\n"
     ]
    }
   ],
   "source": [
    "print(\"Before removing  rare words\")\n",
    "print(len(train_data))\n",
    "print(train_data[0])\n",
    "print(train_data[34])\n",
    "print(train_data[-6])\n",
    "print(\" \")\n",
    "print(\"=\"*125)\n",
    "print(\"After removing rare words\")\n",
    "\n",
    "train_data = remove_rare_words(train_data, vocab, mincount = 1)\n",
    "valid_data = remove_rare_words(valid_data, vocab, mincount = 1)\n",
    "#train_data\n",
    "\n",
    "print(train_data[0])\n",
    "print(train_data[34])\n",
    "print(train_data[-6])\n",
    "print(\" \")\n",
    "print(len(train_data))\n"
   ]
  },
  {
   "cell_type": "code",
   "execution_count": 469,
   "metadata": {},
   "outputs": [
    {
     "name": "stdout",
     "output_type": "stream",
     "text": [
      "['<s>', '<unk>', 'shot', 'him,', 'then?\"', '\"the', '<unk>', '<unk>', '<unk>', '</s>']\n"
     ]
    }
   ],
   "source": [
    "print(train_data[-6])"
   ]
  },
  {
   "cell_type": "code",
   "execution_count": 470,
   "metadata": {},
   "outputs": [],
   "source": [
    "def build_ngram(data, n):\n",
    "    '''\n",
    "    Parameters:\n",
    "    data (list of lists): each list is a sentence of the text \n",
    "    n (int): size of the n-gram\n",
    "    Returns:\n",
    "    prob (dictionary of dictionary)\n",
    "    {\n",
    "        context: {word:probability of this word given context}\n",
    "    }\n",
    "    '''\n",
    "    total_number_words = 0\n",
    "    counts = defaultdict(lambda: defaultdict(lambda: 0.0))\n",
    "\n",
    "    for sentence in data:\n",
    "        sentence = tuple(sentence)\n",
    "        ## FILL CODE\n",
    "        # dict can be indexed by tuples\n",
    "        # store in the same dict all the ngrams\n",
    "        # by using the context as a key and the word as a value\n",
    "        for index, _ in enumerate(sentence):\n",
    "#             if index==4:\n",
    "#                 counts[sentence[index-1:index]][sentence[index]]+=1\n",
    "#                 return counts\n",
    "#                 return   sentence, counts\n",
    "            for N in range(n):\n",
    "                if index >= N:\n",
    "                    counts[sentence[index-N:index]][sentence[index]] += 1.0\n",
    "                else:\n",
    "                    break   \n",
    "\n",
    "\n",
    "    prob = defaultdict(lambda: defaultdict(lambda: 0.0))\n",
    "    # Build the probabilities from the counts\n",
    "    # Be careful with how you normalize!\n",
    "    for context in counts.keys():  \n",
    "    ## FILL CODE\n",
    "        den = 0\n",
    "        for word in counts[context].keys():\n",
    "            den += counts[context][word]\n",
    "        for word in counts[context].keys():\n",
    "            prob[context][word] = counts[context][word] / den\n",
    "        \n",
    "        \n",
    "    return prob"
   ]
  },
  {
   "cell_type": "code",
   "execution_count": 471,
   "metadata": {},
   "outputs": [
    {
     "name": "stdout",
     "output_type": "stream",
     "text": [
      "build ngram model with n =  2\n",
      "0.0008031885068271023\n"
     ]
    }
   ],
   "source": [
    "# RUN TO BUILD NGRAM MODEL\n",
    "\n",
    "n = 2\n",
    "print(\"build ngram model with n = \", n)\n",
    "model = build_ngram(train_data, n)\n",
    "\n",
    "print(model[()][\"father\"])"
   ]
  },
  {
   "cell_type": "markdown",
   "metadata": {},
   "source": [
    "Here, implement a recursive function over shorter and shorter context to compute a \"stupid backoff model\". An interpolation model can also be implemented this way."
   ]
  },
  {
   "cell_type": "code",
   "execution_count": 472,
   "metadata": {},
   "outputs": [],
   "source": [
    "def get_prob(model, context, w):\n",
    "    '''\n",
    "    Parameters: \n",
    "    model (dictionary of dictionary)\n",
    "    {\n",
    "        context: {word:probability of this word given context}\n",
    "    } \n",
    "    context (list of strings): a sentence\n",
    "    w(string): the word we need to find it's probability given the context\n",
    "    \n",
    "    Retunrs:\n",
    "    prob(float): probability of this word given the context \n",
    "    '''\n",
    "    # code a recursive function over \n",
    "    # smaller and smaller context\n",
    "    # to compute the backoff model\n",
    "    \n",
    "    ## FILL CODE\n",
    "    if w in model[context] and context in model:\n",
    "        return model[context][w]\n",
    "    else:\n",
    "        return 0.4 * get_prob(model, context[1:], w)"
   ]
  },
  {
   "cell_type": "code",
   "execution_count": 473,
   "metadata": {},
   "outputs": [],
   "source": [
    "def perplexity(model, data, n):\n",
    "    '''\n",
    "    Parameters: \n",
    "    model (dictionary of dictionary)\n",
    "    {\n",
    "        context: {word:probability of this word given context}\n",
    "    } \n",
    "    data (list of lists): each list is a sentence of the text\n",
    "    n(int): size of the n-gram\n",
    "    \n",
    "    Retunrs:\n",
    "    perp(float): the perplexity of the model \n",
    "    '''\n",
    "    ## FILL CODE\n",
    "    perp, T = 0.0, 0\n",
    "    for sentence in data:\n",
    "        sentence = tuple(sentence)\n",
    "        for i in range(1, len(sentence)): \n",
    "            index =  1-n if n-i<1 else  -i  \n",
    "            context = sentence[i+index:i]\n",
    "            perp += - np.log(get_prob(model, context, sentence[i]))\n",
    "            T += 1\n",
    "    return np.exp(perp / T)"
   ]
  },
  {
   "cell_type": "code",
   "execution_count": 474,
   "metadata": {},
   "outputs": [
    {
     "name": "stdout",
     "output_type": "stream",
     "text": [
      "The perplexity is 53.582886955857006\n"
     ]
    }
   ],
   "source": [
    "# COMPUTE PERPLEXITY ON VALIDATION SET\n",
    "# 53.582886955857006\n",
    "print(\"The perplexity is\", perplexity(model, valid_data, n=2))"
   ]
  },
  {
   "cell_type": "code",
   "execution_count": 475,
   "metadata": {},
   "outputs": [],
   "source": [
    "def get_proba_distrib(model, context):\n",
    "    ## need to get the the words after the context and their probability of appearance\n",
    "    ## after this context \n",
    "    '''\n",
    "    Parameters: \n",
    "    model (dictionary of dictionary)\n",
    "    {\n",
    "        context: {word:probability of this word given context}\n",
    "    }\n",
    "    context (list of strings): the sentence we need to find the words after it and \n",
    "    thier probabilites\n",
    "    \n",
    "    Retunrs:\n",
    "    words_and_probs(dic): {word: probability of word given context}\n",
    "    \n",
    "    This is a cat and dog\n",
    "    \n",
    "    '''\n",
    "    # code a recursive function over context\n",
    "    # to find the longest available ngram\n",
    "    ## FILL CODE\n",
    "    \n",
    "    if not context in model:\n",
    "        words_and_probs = get_proba_distrib(model, context[1:])\n",
    "    else:\n",
    "        words_and_probs = model[context]\n",
    "    \n",
    "    return words_and_probs"
   ]
  },
  {
   "cell_type": "code",
   "execution_count": 476,
   "metadata": {},
   "outputs": [],
   "source": [
    "def generate(model):\n",
    "    '''\n",
    "    Parameters: \n",
    "    model (dictionary of dictionary)\n",
    "    {\n",
    "        context: {word:probability of this word given context}\n",
    "    }\n",
    "    \n",
    "    Retunrs:\n",
    "    sentence (list of strings): a sentence sampled according to the language model. \n",
    "    '''\n",
    "    # generate a sentence. A sentence starts with a <s> and ends with a </s>\n",
    "    # Possiblly a use function is:\n",
    "    # np.random.choice(x, 1, p = y)\n",
    "\n",
    "    # where x is a list of things to sample from\n",
    "    # and y is a list of probability (of the same length as x)\n",
    "    sentence = [\"<s>\"]\n",
    "    while sentence[-1] != \"</s>\" and len(sentence)<100:\n",
    "        ## FILL CODE\n",
    "        proba = get_proba_distrib(model, tuple(sentence))\n",
    "        w = np.random.choice(list(proba.keys()), 1, p = list(proba.values()))\n",
    "        sentence.append(w[0])\n",
    "    return sentence"
   ]
  },
  {
   "cell_type": "code",
   "execution_count": 477,
   "metadata": {},
   "outputs": [
    {
     "name": "stdout",
     "output_type": "stream",
     "text": [
      "Generated sentence:  ['<s>', 'tom', 'wants', 'somebody', 'to', 'meet', 'him', 'a', '<unk>', '<unk>', 'and', 'say', 'that', 'he', 'was', '<unk>', 'pacing', 'the', \"world's\", 'population', 'of', 'the', '<unk>', '</s>']\n"
     ]
    }
   ],
   "source": [
    "# GENERATE A SENTENCE FROM THE MODEL\n",
    "print(\"Generated sentence: \",generate(model))"
   ]
  },
  {
   "cell_type": "markdown",
   "metadata": {},
   "source": [
    "Once you are done implementing the model, evaluation and generation code, you can try changing the value of `n`, and play with a larger training set (`train2.txt` and `valid2.txt`). You can also try to implement an interpolation model."
   ]
  },
  {
   "cell_type": "code",
   "execution_count": 478,
   "metadata": {},
   "outputs": [
    {
     "name": "stdout",
     "output_type": "stream",
     "text": [
      "load training set..\n",
      "\n",
      "\n",
      "['<s>', 'i', 'liked', 'your', 'idea', 'and', 'adopted', 'it', '.', '</s>']\n",
      "['<s>', 'those', 'were', 'his', '<unk>', 'words', '.', '</s>']\n",
      "\n",
      "\n",
      "how : 3195\n",
      "load validation set\n"
     ]
    }
   ],
   "source": [
    "print(\"load training set..\")\n",
    "print(\"\\n\")\n",
    "train_data2, vocab2 = load_data(\"data/train2.txt\")\n",
    "print(train_data2[0])\n",
    "print(train_data2[34])\n",
    "print(\"\\n\")\n",
    "print(\"how :\",vocab2['how'])\n",
    "print(\"load validation set\")\n",
    "valid_data2, _ = load_data(\"data/valid2.txt\")"
   ]
  },
  {
   "cell_type": "code",
   "execution_count": 479,
   "metadata": {},
   "outputs": [
    {
     "name": "stdout",
     "output_type": "stream",
     "text": [
      "Before removing  rare words\n",
      "180000\n",
      "['<s>', 'i', 'liked', 'your', 'idea', 'and', 'adopted', 'it', '.', '</s>']\n",
      "['<s>', 'those', 'were', 'his', '<unk>', 'words', '.', '</s>']\n",
      "['<s>', 'this', 'store', 'always', '<unk>', 'at', 'eight', '.', '</s>']\n",
      " \n",
      "=============================================================================================================================\n",
      "After removing rare words\n",
      "['<s>', 'i', 'liked', 'your', 'idea', 'and', '<unk>', 'it', '<unk>', '</s>']\n",
      "['<s>', 'those', 'were', 'his', '<unk>', 'words', '<unk>', '</s>']\n",
      "['<s>', 'this', 'store', 'always', '<unk>', 'at', '<unk>', '<unk>', '</s>']\n",
      " \n",
      "180000\n"
     ]
    }
   ],
   "source": [
    "print(\"Before removing  rare words\")\n",
    "print(len(train_data2))\n",
    "print(train_data2[0])\n",
    "print(train_data2[34])\n",
    "print(train_data2[-6])\n",
    "print(\" \")\n",
    "print(\"=\"*125)\n",
    "print(\"After removing rare words\")\n",
    "\n",
    "train_data2 = remove_rare_words(train_data2, vocab, mincount = 1)\n",
    "valid_data2 = remove_rare_words(valid_data2, vocab, mincount = 1)\n",
    "#train_data\n",
    "\n",
    "print(train_data2[0])\n",
    "print(train_data2[34])\n",
    "print(train_data2[-6])\n",
    "print(\" \")\n",
    "print(len(train_data2))"
   ]
  },
  {
   "cell_type": "code",
   "execution_count": 480,
   "metadata": {},
   "outputs": [
    {
     "name": "stdout",
     "output_type": "stream",
     "text": [
      "build ngram model with n =  2\n",
      "0.00077467423678778\n"
     ]
    }
   ],
   "source": [
    "# RUN TO BUILD NGRAM MODEL\n",
    "\n",
    "n = 2\n",
    "print(\"build ngram model with n = \", n)\n",
    "model2 = build_ngram(train_data2, n)\n",
    "\n",
    "print(model2[()][\"father\"])"
   ]
  },
  {
   "cell_type": "code",
   "execution_count": 493,
   "metadata": {},
   "outputs": [
    {
     "name": "stdout",
     "output_type": "stream",
     "text": [
      "\n",
      "The perplexity is 32.49482429320278\n",
      "\n",
      "Generated sentence:  ['<s>', 'you', 'go', 'to', 'play', 'by', 'phone', '<unk>', 'was', 'expected', '<unk>', 'in', '<unk>', '<unk>', '</s>']\n"
     ]
    }
   ],
   "source": [
    "print(\"\")\n",
    "print(\"The perplexity is\", perplexity(model2, valid_data2, n=2))\n",
    "print(\"\")\n",
    "print(\"Generated sentence: \",generate(model2))"
   ]
  }
 ],
 "metadata": {
  "kernelspec": {
   "display_name": "Python 3 (ipykernel)",
   "language": "python",
   "name": "python3"
  },
  "language_info": {
   "codemirror_mode": {
    "name": "ipython",
    "version": 3
   },
   "file_extension": ".py",
   "mimetype": "text/x-python",
   "name": "python",
   "nbconvert_exporter": "python",
   "pygments_lexer": "ipython3",
   "version": "3.9.7"
  }
 },
 "nbformat": 4,
 "nbformat_minor": 2
}
